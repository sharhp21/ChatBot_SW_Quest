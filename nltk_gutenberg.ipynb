{
  "nbformat": 4,
  "nbformat_minor": 0,
  "metadata": {
    "colab": {
      "name": "nltk_gutenberg.ipynb",
      "provenance": [],
      "collapsed_sections": [],
      "include_colab_link": true
    },
    "kernelspec": {
      "name": "python3",
      "display_name": "Python 3"
    }
  },
  "cells": [
    {
      "cell_type": "markdown",
      "metadata": {
        "id": "view-in-github",
        "colab_type": "text"
      },
      "source": [
        "<a href=\"https://colab.research.google.com/github/sharhp21/ChatBot_SW_Quest/blob/master/nltk_gutenberg.ipynb\" target=\"_parent\"><img src=\"https://colab.research.google.com/assets/colab-badge.svg\" alt=\"Open In Colab\"/></a>"
      ]
    },
    {
      "cell_type": "code",
      "metadata": {
        "id": "AT5HvI9eY53U",
        "colab_type": "code",
        "outputId": "815d9787-8325-48c5-b270-9cdda943df0b",
        "colab": {
          "base_uri": "https://localhost:8080/",
          "height": 251
        }
      },
      "source": [
        "import nltk\n",
        "nltk.download(\"book\", quiet=True)\n",
        "from nltk.book import *"
      ],
      "execution_count": 0,
      "outputs": [
        {
          "output_type": "stream",
          "text": [
            "*** Introductory Examples for the NLTK Book ***\n",
            "Loading text1, ..., text9 and sent1, ..., sent9\n",
            "Type the name of the text or sentence to view it.\n",
            "Type: 'texts()' or 'sents()' to list the materials.\n",
            "text1: Moby Dick by Herman Melville 1851\n",
            "text2: Sense and Sensibility by Jane Austen 1811\n",
            "text3: The Book of Genesis\n",
            "text4: Inaugural Address Corpus\n",
            "text5: Chat Corpus\n",
            "text6: Monty Python and the Holy Grail\n",
            "text7: Wall Street Journal\n",
            "text8: Personals Corpus\n",
            "text9: The Man Who Was Thursday by G . K . Chesterton 1908\n"
          ],
          "name": "stdout"
        }
      ]
    },
    {
      "cell_type": "markdown",
      "metadata": {
        "id": "JF0r4Ya3draG",
        "colab_type": "text"
      },
      "source": [
        "** 저작권이 말소된 문학작품을 포함하는 gutenberg 말뭉치에는 다음과 같은 작품이 샘플로 포함되어 있음"
      ]
    },
    {
      "cell_type": "code",
      "metadata": {
        "id": "UjcFRkhDc5en",
        "colab_type": "code",
        "outputId": "f3c56fed-4def-48c8-d1a0-15da43228ad0",
        "colab": {
          "base_uri": "https://localhost:8080/",
          "height": 341
        }
      },
      "source": [
        "nltk.corpus.gutenberg.fileids()"
      ],
      "execution_count": 0,
      "outputs": [
        {
          "output_type": "execute_result",
          "data": {
            "text/plain": [
              "['austen-emma.txt',\n",
              " 'austen-persuasion.txt',\n",
              " 'austen-sense.txt',\n",
              " 'bible-kjv.txt',\n",
              " 'blake-poems.txt',\n",
              " 'bryant-stories.txt',\n",
              " 'burgess-busterbrown.txt',\n",
              " 'carroll-alice.txt',\n",
              " 'chesterton-ball.txt',\n",
              " 'chesterton-brown.txt',\n",
              " 'chesterton-thursday.txt',\n",
              " 'edgeworth-parents.txt',\n",
              " 'melville-moby_dick.txt',\n",
              " 'milton-paradise.txt',\n",
              " 'shakespeare-caesar.txt',\n",
              " 'shakespeare-hamlet.txt',\n",
              " 'shakespeare-macbeth.txt',\n",
              " 'whitman-leaves.txt']"
            ]
          },
          "metadata": {
            "tags": []
          },
          "execution_count": 2
        }
      ]
    },
    {
      "cell_type": "markdown",
      "metadata": {
        "id": "Yo26ajL9dyV3",
        "colab_type": "text"
      },
      "source": [
        "** 제인 오스틴의 엠마"
      ]
    },
    {
      "cell_type": "code",
      "metadata": {
        "id": "P79UZTeWdKfo",
        "colab_type": "code",
        "outputId": "6c288ad9-780f-40fc-fb17-a34bf24fbfd2",
        "colab": {
          "base_uri": "https://localhost:8080/",
          "height": 575
        }
      },
      "source": [
        "emma_raw = nltk.corpus.gutenberg.raw(\"austen-emma.txt\")\n",
        "#emma_raw\n",
        "print(emma_raw[:1302])"
      ],
      "execution_count": 0,
      "outputs": [
        {
          "output_type": "stream",
          "text": [
            "[Emma by Jane Austen 1816]\n",
            "\n",
            "VOLUME I\n",
            "\n",
            "CHAPTER I\n",
            "\n",
            "\n",
            "Emma Woodhouse, handsome, clever, and rich, with a comfortable home\n",
            "and happy disposition, seemed to unite some of the best blessings\n",
            "of existence; and had lived nearly twenty-one years in the world\n",
            "with very little to distress or vex her.\n",
            "\n",
            "She was the youngest of the two daughters of a most affectionate,\n",
            "indulgent father; and had, in consequence of her sister's marriage,\n",
            "been mistress of his house from a very early period.  Her mother\n",
            "had died too long ago for her to have more than an indistinct\n",
            "remembrance of her caresses; and her place had been supplied\n",
            "by an excellent woman as governess, who had fallen little short\n",
            "of a mother in affection.\n",
            "\n",
            "Sixteen years had Miss Taylor been in Mr. Woodhouse's family,\n",
            "less as a governess than a friend, very fond of both daughters,\n",
            "but particularly of Emma.  Between _them_ it was more the intimacy\n",
            "of sisters.  Even before Miss Taylor had ceased to hold the nominal\n",
            "office of governess, the mildness of her temper had hardly allowed\n",
            "her to impose any restraint; and the shadow of authority being\n",
            "now long passed away, they had been living together as friend and\n",
            "friend very mutually attached, and Emma doing just what she liked;\n",
            "highly esteeming Miss Taylor's judgment, but directed chiefly by\n",
            "her own.\n",
            "\n"
          ],
          "name": "stdout"
        }
      ]
    },
    {
      "cell_type": "markdown",
      "metadata": {
        "id": "D8T21-MkeANL",
        "colab_type": "text"
      },
      "source": [
        "** 문장 토큰 생성"
      ]
    },
    {
      "cell_type": "code",
      "metadata": {
        "id": "rD0DL-mld1KX",
        "colab_type": "code",
        "outputId": "32a1deca-ba52-493b-d21b-8f150a3170cb",
        "colab": {
          "base_uri": "https://localhost:8080/",
          "height": 71
        }
      },
      "source": [
        "from nltk.tokenize import sent_tokenize\n",
        "#print(sent_tokenize(emma_raw[:1000]))\n",
        "print(sent_tokenize(emma_raw[:1000])[3])"
      ],
      "execution_count": 0,
      "outputs": [
        {
          "output_type": "stream",
          "text": [
            "Sixteen years had Miss Taylor been in Mr. Woodhouse's family,\n",
            "less as a governess than a friend, very fond of both daughters,\n",
            "but particularly of Emma.\n"
          ],
          "name": "stdout"
        }
      ]
    },
    {
      "cell_type": "markdown",
      "metadata": {
        "id": "lt2YBXxKeJxz",
        "colab_type": "text"
      },
      "source": [
        "** 단어 토큰 생성"
      ]
    },
    {
      "cell_type": "code",
      "metadata": {
        "id": "RJ6Zg5K8eEFm",
        "colab_type": "code",
        "outputId": "a73d06df-726b-4475-87d4-ddbd60de787b",
        "colab": {
          "base_uri": "https://localhost:8080/",
          "height": 233
        }
      },
      "source": [
        "from nltk.tokenize import word_tokenize\n",
        "word_tokenize(emma_raw[50:100])"
      ],
      "execution_count": 0,
      "outputs": [
        {
          "output_type": "execute_result",
          "data": {
            "text/plain": [
              "['Emma',\n",
              " 'Woodhouse',\n",
              " ',',\n",
              " 'handsome',\n",
              " ',',\n",
              " 'clever',\n",
              " ',',\n",
              " 'and',\n",
              " 'rich',\n",
              " ',',\n",
              " 'with',\n",
              " 'a']"
            ]
          },
          "metadata": {
            "tags": []
          },
          "execution_count": 5
        }
      ]
    },
    {
      "cell_type": "markdown",
      "metadata": {
        "id": "HBbQ5hQZx6pR",
        "colab_type": "text"
      },
      "source": [
        "** 단어"
      ]
    },
    {
      "cell_type": "code",
      "metadata": {
        "id": "BY8FXLjUepXB",
        "colab_type": "code",
        "outputId": "50f94097-0330-4eaa-d3f2-c70349ca6bbb",
        "colab": {
          "base_uri": "https://localhost:8080/",
          "height": 233
        }
      },
      "source": [
        "from nltk.tokenize import word_tokenize\n",
        "word_tokenize(emma_raw[50:100])"
      ],
      "execution_count": 0,
      "outputs": [
        {
          "output_type": "execute_result",
          "data": {
            "text/plain": [
              "['Emma',\n",
              " 'Woodhouse',\n",
              " ',',\n",
              " 'handsome',\n",
              " ',',\n",
              " 'clever',\n",
              " ',',\n",
              " 'and',\n",
              " 'rich',\n",
              " ',',\n",
              " 'with',\n",
              " 'a']"
            ]
          },
          "metadata": {
            "tags": []
          },
          "execution_count": 6
        }
      ]
    },
    {
      "cell_type": "markdown",
      "metadata": {
        "id": "p7le6Sy_zPlb",
        "colab_type": "text"
      },
      "source": [
        "** 품사 부착\n",
        "\n",
        "---\n",
        "\n",
        "POS (Part-of-Speech)"
      ]
    },
    {
      "cell_type": "code",
      "metadata": {
        "id": "h8V5c79FyDLO",
        "colab_type": "code",
        "outputId": "8eafb3a9-f898-4ad8-9e59-b84c1cf24fe3",
        "colab": {
          "base_uri": "https://localhost:8080/",
          "height": 89
        }
      },
      "source": [
        "nltk.help.upenn_tagset(\"VB\")"
      ],
      "execution_count": 0,
      "outputs": [
        {
          "output_type": "stream",
          "text": [
            "VB: verb, base form\n",
            "    ask assemble assess assign assume atone attention avoid bake balkanize\n",
            "    bank begin behold believe bend benefit bevel beware bless boil bomb\n",
            "    boost brace break bring broil brush build ...\n"
          ],
          "name": "stdout"
        }
      ]
    },
    {
      "cell_type": "code",
      "metadata": {
        "id": "5Cwm9q-xzDbE",
        "colab_type": "code",
        "outputId": "98a309ba-379c-4735-aeaf-d63b17bf52c2",
        "colab": {
          "base_uri": "https://localhost:8080/",
          "height": 197
        }
      },
      "source": [
        "from nltk.tag import pos_tag\n",
        "sentence = \"Emma refused to permit us to obtain the refuse permit\"\n",
        "tagged_list = pos_tag(word_tokenize(sentence))\n",
        "tagged_list"
      ],
      "execution_count": 0,
      "outputs": [
        {
          "output_type": "execute_result",
          "data": {
            "text/plain": [
              "[('Emma', 'NNP'),\n",
              " ('refused', 'VBD'),\n",
              " ('to', 'TO'),\n",
              " ('permit', 'VB'),\n",
              " ('us', 'PRP'),\n",
              " ('to', 'TO'),\n",
              " ('obtain', 'VB'),\n",
              " ('the', 'DT'),\n",
              " ('refuse', 'NN'),\n",
              " ('permit', 'NN')]"
            ]
          },
          "metadata": {
            "tags": []
          },
          "execution_count": 8
        }
      ]
    },
    {
      "cell_type": "code",
      "metadata": {
        "id": "TajNo0AizIfA",
        "colab_type": "code",
        "outputId": "71bf565b-1443-4a0f-f0dc-7a0effb47d3b",
        "colab": {
          "base_uri": "https://localhost:8080/",
          "height": 35
        }
      },
      "source": [
        "nouns_list = [t[0] for t in tagged_list if t[1] == \"NN\"]\n",
        "nouns_list"
      ],
      "execution_count": 0,
      "outputs": [
        {
          "output_type": "execute_result",
          "data": {
            "text/plain": [
              "['refuse', 'permit']"
            ]
          },
          "metadata": {
            "tags": []
          },
          "execution_count": 9
        }
      ]
    },
    {
      "cell_type": "code",
      "metadata": {
        "id": "8YU_bqDhteAU",
        "colab_type": "code",
        "outputId": "ee5d1373-fe2d-4514-af33-706a36a2ec77",
        "colab": {
          "base_uri": "https://localhost:8080/",
          "height": 35
        }
      },
      "source": [
        "from nltk.tokenize import RegexpTokenizer\n",
        "retokenize = RegexpTokenizer(\"[\\w]+\")\n",
        "retokenize.tokenize(emma_raw[50:100])"
      ],
      "execution_count": 0,
      "outputs": [
        {
          "output_type": "execute_result",
          "data": {
            "text/plain": [
              "['Emma', 'Woodhouse', 'handsome', 'clever', 'and', 'rich', 'with', 'a']"
            ]
          },
          "metadata": {
            "tags": []
          },
          "execution_count": 14
        }
      ]
    },
    {
      "cell_type": "markdown",
      "metadata": {
        "id": "qrQoAgEF20i-",
        "colab_type": "text"
      },
      "source": [
        "** similar 는 주어진 단어 대신 사용된 횟수가 높은 단어들"
      ]
    },
    {
      "cell_type": "code",
      "metadata": {
        "id": "dGBrf4EQ2KtR",
        "colab_type": "code",
        "outputId": "a9d59c81-c5c6-45f2-a514-038b5aae7789",
        "colab": {
          "base_uri": "https://localhost:8080/",
          "height": 53
        }
      },
      "source": [
        "from nltk import Text\n",
        "text = Text(retokenize.tokenize(emma_raw))\n",
        "text.similar(\"Emma\")"
      ],
      "execution_count": 0,
      "outputs": [
        {
          "output_type": "stream",
          "text": [
            "she it he i harriet you her jane him that me and all they them herself\n",
            "there but be isabella\n"
          ],
          "name": "stdout"
        }
      ]
    },
    {
      "cell_type": "markdown",
      "metadata": {
        "id": "DlZn5bDg2_7o",
        "colab_type": "text"
      },
      "source": [
        "** common_contexts\n",
        "\n",
        "---\n",
        "\n",
        "두 단어의 공통 문맥"
      ]
    },
    {
      "cell_type": "code",
      "metadata": {
        "id": "djLPR5k33BN5",
        "colab_type": "code",
        "outputId": "0d117361-2373-446d-a802-ae77b52e426d",
        "colab": {
          "base_uri": "https://localhost:8080/",
          "height": 89
        }
      },
      "source": [
        "text.common_contexts([\"Emma\", \"she\"])"
      ],
      "execution_count": 0,
      "outputs": [
        {
          "output_type": "stream",
          "text": [
            "but_was and_could that_should said_and which_could whom_knew\n",
            "which_particularly and_imagined that_could said_i that_began\n",
            "and_thought do_was but_could than_had said_but manner_was this_could\n",
            "as_saw possible_could\n"
          ],
          "name": "stdout"
        }
      ]
    },
    {
      "cell_type": "markdown",
      "metadata": {
        "id": "x_mPxwGPz74P",
        "colab_type": "text"
      },
      "source": [
        "** Text 클래스는 문서 분석에 유용한 여러 가지 메소드를 제공함"
      ]
    },
    {
      "cell_type": "code",
      "metadata": {
        "id": "n-l86LjEzfOk",
        "colab_type": "code",
        "colab": {}
      },
      "source": [
        "from nltk import Text\n",
        "\n",
        "text = Text(retokenize.tokenize(emma_raw))"
      ],
      "execution_count": 0,
      "outputs": []
    },
    {
      "cell_type": "code",
      "metadata": {
        "id": "ZbdntOn6z5Lc",
        "colab_type": "code",
        "outputId": "4bbce5c5-b4f8-4270-c0aa-37f7e4e16de2",
        "colab": {
          "base_uri": "https://localhost:8080/",
          "height": 181
        }
      },
      "source": [
        "!pip install matplotlib"
      ],
      "execution_count": 0,
      "outputs": [
        {
          "output_type": "stream",
          "text": [
            "Requirement already satisfied: matplotlib in /usr/local/lib/python3.6/dist-packages (3.1.2)\n",
            "Requirement already satisfied: pyparsing!=2.0.4,!=2.1.2,!=2.1.6,>=2.0.1 in /usr/local/lib/python3.6/dist-packages (from matplotlib) (2.4.6)\n",
            "Requirement already satisfied: python-dateutil>=2.1 in /usr/local/lib/python3.6/dist-packages (from matplotlib) (2.6.1)\n",
            "Requirement already satisfied: kiwisolver>=1.0.1 in /usr/local/lib/python3.6/dist-packages (from matplotlib) (1.1.0)\n",
            "Requirement already satisfied: numpy>=1.11 in /usr/local/lib/python3.6/dist-packages (from matplotlib) (1.17.5)\n",
            "Requirement already satisfied: cycler>=0.10 in /usr/local/lib/python3.6/dist-packages (from matplotlib) (0.10.0)\n",
            "Requirement already satisfied: six>=1.5 in /usr/local/lib/python3.6/dist-packages (from python-dateutil>=2.1->matplotlib) (1.12.0)\n",
            "Requirement already satisfied: setuptools in /usr/local/lib/python3.6/dist-packages (from kiwisolver>=1.0.1->matplotlib) (42.0.2)\n"
          ],
          "name": "stdout"
        }
      ]
    },
    {
      "cell_type": "code",
      "metadata": {
        "id": "NPaINEZU08Z8",
        "colab_type": "code",
        "outputId": "0508d9e4-3d85-417d-d3b5-583565477957",
        "colab": {
          "base_uri": "https://localhost:8080/",
          "height": 294
        }
      },
      "source": [
        "import matplotlib.pyplot as plt\n",
        "\n",
        "text.plot(20)             #각 단어(토큰)의 사용빈도\n",
        "plt.show()"
      ],
      "execution_count": 0,
      "outputs": [
        {
          "output_type": "display_data",
          "data": {
            "image/png": "[encoded data removed]",
            "text/plain": [
              "<Figure size 432x288 with 1 Axes>"
            ]
          },
          "metadata": {
            "tags": []
          }
        }
      ]
    },
    {
      "cell_type": "markdown",
      "metadata": {
        "id": "qb-RZseo2FAC",
        "colab_type": "text"
      },
      "source": [
        "** 단어가 사용된 위치"
      ]
    },
    {
      "cell_type": "code",
      "metadata": {
        "id": "MvRY0d6R0Icl",
        "colab_type": "code",
        "outputId": "97abae15-1528-4d7c-ce98-bb1dd23f893a",
        "colab": {
          "base_uri": "https://localhost:8080/",
          "height": 295
        }
      },
      "source": [
        "text.dispersion_plot([\"Emma\", \"Knightley\", \"Frank\", \"Jane\", \"Harriet\", \"Robert\"])"
      ],
      "execution_count": 0,
      "outputs": [
        {
          "output_type": "display_data",
          "data": {
            "image/png": "[encoded data removed]",
            "text/plain": [
              "<Figure size 432x288 with 1 Axes>"
            ]
          },
          "metadata": {
            "tags": []
          }
        }
      ]
    }
  ]
}