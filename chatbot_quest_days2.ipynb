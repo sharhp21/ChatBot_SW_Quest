{
  "nbformat": 4,
  "nbformat_minor": 0,
  "metadata": {
    "colab": {
      "name": "chatbot_quest_days2.ipynb",
      "provenance": [],
      "collapsed_sections": [],
      "authorship_tag": "ABX9TyMI31R5jvgsKCaNkMy1UlAH",
      "include_colab_link": true
    },
    "kernelspec": {
      "name": "python3",
      "display_name": "Python 3"
    }
  },
  "cells": [
    {
      "cell_type": "markdown",
      "metadata": {
        "id": "view-in-github",
        "colab_type": "text"
      },
      "source": [
        "<a href=\"https://colab.research.google.com/github/sharhp21/ChatBot_SW_Quest/blob/master/chatbot_quest_days2.ipynb\" target=\"_parent\"><img src=\"https://colab.research.google.com/assets/colab-badge.svg\" alt=\"Open In Colab\"/></a>"
      ]
    },
    {
      "cell_type": "markdown",
      "metadata": {
        "id": "03n3LfS1Y-x_",
        "colab_type": "text"
      },
      "source": [
        "# **20200114**"
      ]
    },
    {
      "cell_type": "markdown",
      "metadata": {
        "id": "NUix6bAeZFn3",
        "colab_type": "text"
      },
      "source": [
        "# **Pandas**"
      ]
    },
    {
      "cell_type": "code",
      "metadata": {
        "id": "LecmI3L_Y25T",
        "colab_type": "code",
        "outputId": "250dd32c-5622-408a-c385-bfcb51fa40d3",
        "colab": {
          "base_uri": "https://localhost:8080/",
          "height": 107
        }
      },
      "source": [
        "import pandas as pd\n",
        "\n",
        "## Series ##\n",
        "\n",
        "data = ['2016', '2017', '2018', '2019']\n",
        "result = pd.Series(data)\n",
        "\n",
        "print(result)"
      ],
      "execution_count": 0,
      "outputs": [
        {
          "output_type": "stream",
          "text": [
            "0    2016\n",
            "1    2017\n",
            "2    2018\n",
            "3    2019\n",
            "dtype: object\n"
          ],
          "name": "stdout"
        }
      ]
    },
    {
      "cell_type": "code",
      "metadata": {
        "id": "HIlLHxdedVHB",
        "colab_type": "code",
        "outputId": "be444d81-0342-4294-af5a-b7140ced7eea",
        "colab": {
          "base_uri": "https://localhost:8080/",
          "height": 35
        }
      },
      "source": [
        "result.index"
      ],
      "execution_count": 0,
      "outputs": [
        {
          "output_type": "execute_result",
          "data": {
            "text/plain": [
              "RangeIndex(start=0, stop=4, step=1)"
            ]
          },
          "metadata": {
            "tags": []
          },
          "execution_count": 2
        }
      ]
    },
    {
      "cell_type": "code",
      "metadata": {
        "id": "4QGrIKISdaXN",
        "colab_type": "code",
        "outputId": "14ccce53-e62f-4ee4-d3b4-1109103e6dcc",
        "colab": {
          "base_uri": "https://localhost:8080/",
          "height": 35
        }
      },
      "source": [
        "result.values"
      ],
      "execution_count": 0,
      "outputs": [
        {
          "output_type": "execute_result",
          "data": {
            "text/plain": [
              "array(['2016', '2017', '2018', '2019'], dtype=object)"
            ]
          },
          "metadata": {
            "tags": []
          },
          "execution_count": 3
        }
      ]
    },
    {
      "cell_type": "code",
      "metadata": {
        "id": "UfKaQ7Zydigt",
        "colab_type": "code",
        "outputId": "38293425-fbca-47d7-8765-cbbcf173a7ed",
        "colab": {
          "base_uri": "https://localhost:8080/",
          "height": 107
        }
      },
      "source": [
        "result.name = 'Year'\n",
        "print(result)"
      ],
      "execution_count": 0,
      "outputs": [
        {
          "output_type": "stream",
          "text": [
            "0    2016\n",
            "1    2017\n",
            "2    2018\n",
            "3    2019\n",
            "Name: Year, dtype: object\n"
          ],
          "name": "stdout"
        }
      ]
    },
    {
      "cell_type": "code",
      "metadata": {
        "id": "APmieH0idr37",
        "colab_type": "code",
        "outputId": "5725f388-99fc-4575-b958-0501855c9c01",
        "colab": {
          "base_uri": "https://localhost:8080/",
          "height": 125
        }
      },
      "source": [
        "result.index.name = 'No'\n",
        "print(result)"
      ],
      "execution_count": 0,
      "outputs": [
        {
          "output_type": "stream",
          "text": [
            "No\n",
            "0    2016\n",
            "1    2017\n",
            "2    2018\n",
            "3    2019\n",
            "Name: Year, dtype: object\n"
          ],
          "name": "stdout"
        }
      ]
    },
    {
      "cell_type": "code",
      "metadata": {
        "id": "-1Za8umndwMW",
        "colab_type": "code",
        "outputId": "93332c67-8b82-4751-9677-d8b033ce3298",
        "colab": {
          "base_uri": "https://localhost:8080/",
          "height": 125
        }
      },
      "source": [
        "result = pd.Series(data, index = ['a', 'b', 'c', 'd'])\n",
        "print(result)\n",
        "result.index"
      ],
      "execution_count": 0,
      "outputs": [
        {
          "output_type": "stream",
          "text": [
            "a    2016\n",
            "b    2017\n",
            "c    2018\n",
            "d    2019\n",
            "dtype: object\n"
          ],
          "name": "stdout"
        },
        {
          "output_type": "execute_result",
          "data": {
            "text/plain": [
              "Index(['a', 'b', 'c', 'd'], dtype='object')"
            ]
          },
          "metadata": {
            "tags": []
          },
          "execution_count": 7
        }
      ]
    },
    {
      "cell_type": "code",
      "metadata": {
        "id": "AAWjmLtpd-iB",
        "colab_type": "code",
        "outputId": "c7b84ddf-ded4-471d-8035-1563823070ad",
        "colab": {
          "base_uri": "https://localhost:8080/",
          "height": 179
        }
      },
      "source": [
        "score = {'Kim':85, 'Hwang':100, 'Lee':99, 'Choi':80}\n",
        "result = pd.Series(score)\n",
        "print(result)\n",
        "print(result.index)\n",
        "print(result.values)\n",
        "\n",
        "# 객체 접근\n",
        "print(result['Lee'])\n",
        "print(result['Hwang'])"
      ],
      "execution_count": 0,
      "outputs": [
        {
          "output_type": "stream",
          "text": [
            "Kim       85\n",
            "Hwang    100\n",
            "Lee       99\n",
            "Choi      80\n",
            "dtype: int64\n",
            "Index(['Kim', 'Hwang', 'Lee', 'Choi'], dtype='object')\n",
            "[ 85 100  99  80]\n",
            "99\n",
            "100\n"
          ],
          "name": "stdout"
        }
      ]
    },
    {
      "cell_type": "code",
      "metadata": {
        "id": "dexDAtv6f5pY",
        "colab_type": "code",
        "outputId": "a6f51b9b-5ec2-43e1-9665-072b23401e59",
        "colab": {
          "base_uri": "https://localhost:8080/",
          "height": 323
        }
      },
      "source": [
        "## DataFrame ##\n",
        "\n",
        "data = {'name':['Lee', 'Hwang', 'Kim', 'Choi'],\n",
        "        'score':[100, 95, 90, 85],\n",
        "        'grade':['A', 'A', 'B', 'B']}\n",
        "\n",
        "df = pd.DataFrame(data)\n",
        "\n",
        "print(df)\n",
        "print(df.index)\n",
        "print(df.columns)\n",
        "print(df.values)\n",
        "\n",
        "df.index.name = 'No'\n",
        "df.columns.name = 'Info'\n",
        "\n",
        "print(df)"
      ],
      "execution_count": 0,
      "outputs": [
        {
          "output_type": "stream",
          "text": [
            "    name  score grade\n",
            "0    Lee    100     A\n",
            "1  Hwang     95     A\n",
            "2    Kim     90     B\n",
            "3   Choi     85     B\n",
            "RangeIndex(start=0, stop=4, step=1)\n",
            "Index(['name', 'score', 'grade'], dtype='object')\n",
            "[['Lee' 100 'A']\n",
            " ['Hwang' 95 'A']\n",
            " ['Kim' 90 'B']\n",
            " ['Choi' 85 'B']]\n",
            "Info   name  score grade\n",
            "No                      \n",
            "0       Lee    100     A\n",
            "1     Hwang     95     A\n",
            "2       Kim     90     B\n",
            "3      Choi     85     B\n"
          ],
          "name": "stdout"
        }
      ]
    },
    {
      "cell_type": "code",
      "metadata": {
        "id": "dviOmlldgByA",
        "colab_type": "code",
        "outputId": "b60fb3ef-24bb-4291-bf6f-56ca1c975e46",
        "colab": {
          "base_uri": "https://localhost:8080/",
          "height": 179
        }
      },
      "source": [
        "# NaN\n",
        "\n",
        "c = ['name', 'grade','score', 'etc']\n",
        "df2 = pd.DataFrame(data, columns=c)\n",
        "print(df2)\n",
        "\n",
        "score = {'Kim':85, 'Hwang':100, 'Lee':99, 'Choi':80}\n",
        "students = ['Hwang', 'Lee', 'Woo']\n",
        "result = pd.Series(score, index=students)\n",
        "print(result)"
      ],
      "execution_count": 0,
      "outputs": [
        {
          "output_type": "stream",
          "text": [
            "    name grade  score  etc\n",
            "0    Lee     A    100  NaN\n",
            "1  Hwang     A     95  NaN\n",
            "2    Kim     B     90  NaN\n",
            "3   Choi     B     85  NaN\n",
            "Hwang    100.0\n",
            "Lee       99.0\n",
            "Woo        NaN\n",
            "dtype: float64\n"
          ],
          "name": "stdout"
        }
      ]
    },
    {
      "cell_type": "code",
      "metadata": {
        "id": "EfuqO1MQf-GH",
        "colab_type": "code",
        "outputId": "293d7dfa-af07-47ef-f3c8-48899d68ad49",
        "colab": {
          "base_uri": "https://localhost:8080/",
          "height": 233
        }
      },
      "source": [
        "import numpy as np\n",
        "\n",
        "data = {'name':['David', 'Roy', 'Tina', 'Kim'],\n",
        "        'score':[78, 64, 70, 62],\n",
        "        'grade':['C', 'D', 'C', 'D']}\n",
        "df = pd.DataFrame(data)\n",
        "df.index.name = 'No'\n",
        "df.columns.name = 'Info'\n",
        "print(df)\n",
        "\n",
        "df['etc'] = np.nan\n",
        "print(df)"
      ],
      "execution_count": 0,
      "outputs": [
        {
          "output_type": "stream",
          "text": [
            "Info   name  score grade\n",
            "No                      \n",
            "0     David     78     C\n",
            "1       Roy     64     D\n",
            "2      Tina     70     C\n",
            "3       Kim     62     D\n",
            "Info   name  score grade  etc\n",
            "No                           \n",
            "0     David     78     C  NaN\n",
            "1       Roy     64     D  NaN\n",
            "2      Tina     70     C  NaN\n",
            "3       Kim     62     D  NaN\n"
          ],
          "name": "stdout"
        }
      ]
    },
    {
      "cell_type": "code",
      "metadata": {
        "id": "VGezD6IslZ06",
        "colab_type": "code",
        "outputId": "a8d98ecc-8098-43d8-85df-073fb95782fb",
        "colab": {
          "base_uri": "https://localhost:8080/",
          "height": 125
        }
      },
      "source": [
        "# df 데이터 추가\n",
        "\n",
        "data = {'name':['Lee', 'Hwang', 'Kim', 'Choi'],\n",
        "        'score':[100, 95, 90, 85],\n",
        "        'grade':['A', 'A', 'B', 'B']}\n",
        "\n",
        "df = pd.DataFrame(data)\n",
        "\n",
        "points = pd.Series([1.5, 1.7, 2.4], index=[0, 1, 2])\n",
        "df['points'] = points\n",
        "df['etc'] = 0.0\n",
        "df['high_score'] = df['score'] > 90\n",
        "\n",
        "df.loc[5,:] = ['Su', 'C', 70, 0.0, 1.1, False]\n",
        "print(df)"
      ],
      "execution_count": 0,
      "outputs": [
        {
          "output_type": "stream",
          "text": [
            "    name score grade  points  etc  high_score\n",
            "0    Lee   100     A     1.5  0.0        True\n",
            "1  Hwang    95     A     1.7  0.0        True\n",
            "2    Kim    90     B     2.4  0.0       False\n",
            "3   Choi    85     B     NaN  0.0       False\n",
            "5     Su     C    70     0.0  1.1       False\n"
          ],
          "name": "stdout"
        }
      ]
    },
    {
      "cell_type": "code",
      "metadata": {
        "id": "gPbpRdjGnHRx",
        "colab_type": "code",
        "outputId": "474cc117-0802-4127-c962-fcae60ecbc96",
        "colab": {
          "base_uri": "https://localhost:8080/",
          "height": 107
        }
      },
      "source": [
        "# df 데이터 삭제\n",
        "\n",
        "del df['etc']\n",
        "df.drop(5, inplace=True) # inplace는 기존의 객체 변경\n",
        "print(df)"
      ],
      "execution_count": 0,
      "outputs": [
        {
          "output_type": "stream",
          "text": [
            "    name score grade  points  high_score\n",
            "0    Lee   100     A     1.5        True\n",
            "1  Hwang    95     A     1.7        True\n",
            "2    Kim    90     B     2.4       False\n",
            "3   Choi    85     B     NaN       False\n"
          ],
          "name": "stdout"
        }
      ]
    },
    {
      "cell_type": "code",
      "metadata": {
        "id": "cB5yr8EKnab0",
        "colab_type": "code",
        "outputId": "4a441e5f-1b0f-44c1-d5d7-e98418f1806e",
        "colab": {
          "base_uri": "https://localhost:8080/",
          "height": 269
        }
      },
      "source": [
        "# 지정된 값 index로 만들기\n",
        "df.set_index('name', inplace=True)\n",
        "print(df)\n",
        "\n",
        "# 데이터 조회\n",
        "print(df[1:3])\n",
        "print(df[:2])"
      ],
      "execution_count": 0,
      "outputs": [
        {
          "output_type": "stream",
          "text": [
            "      score grade  points  high_score\n",
            "name                                 \n",
            "Lee     100     A     1.5        True\n",
            "Hwang    95     A     1.7        True\n",
            "Kim      90     B     2.4       False\n",
            "Choi     85     B     NaN       False\n",
            "      score grade  points  high_score\n",
            "name                                 \n",
            "Hwang    95     A     1.7        True\n",
            "Kim      90     B     2.4       False\n",
            "      score grade  points  high_score\n",
            "name                                 \n",
            "Lee     100     A     1.5        True\n",
            "Hwang    95     A     1.7        True\n"
          ],
          "name": "stdout"
        }
      ]
    },
    {
      "cell_type": "code",
      "metadata": {
        "id": "tQAl9v5TnzUs",
        "colab_type": "code",
        "outputId": "de5a430a-b0f5-4634-a8fc-d59168872c16",
        "colab": {
          "base_uri": "https://localhost:8080/",
          "height": 341
        }
      },
      "source": [
        "# loc[행 조건식, (열 조건식)]\n",
        "\n",
        "print(df.loc['Lee'])\n",
        "print(df.loc[['Lee', 'Choi']])\n",
        "print(df.loc[:'Kim'])\n",
        "print(df.loc['Kim':'Choi', ['grade', 'high_score']])"
      ],
      "execution_count": 0,
      "outputs": [
        {
          "output_type": "stream",
          "text": [
            "score          100\n",
            "grade            A\n",
            "points         1.5\n",
            "high_score    True\n",
            "Name: Lee, dtype: object\n",
            "     score grade  points  high_score\n",
            "name                                \n",
            "Lee    100     A     1.5        True\n",
            "Choi    85     B     NaN       False\n",
            "      score grade  points  high_score\n",
            "name                                 \n",
            "Lee     100     A     1.5        True\n",
            "Hwang    95     A     1.7        True\n",
            "Kim      90     B     2.4       False\n",
            "     grade  high_score\n",
            "name                  \n",
            "Kim      B       False\n",
            "Choi     B       False\n"
          ],
          "name": "stdout"
        }
      ]
    },
    {
      "cell_type": "code",
      "metadata": {
        "id": "dUYfwz_HodGc",
        "colab_type": "code",
        "outputId": "cde84cf9-e99f-42a0-d270-7d40eb0e5b1b",
        "colab": {
          "base_uri": "https://localhost:8080/",
          "height": 197
        }
      },
      "source": [
        "# iloc 위치 번호 기준으로 데이터를 가져온다\n",
        "\n",
        "print(df.iloc[0:3])\n",
        "print(df.iloc[0:3, 1:3])"
      ],
      "execution_count": 0,
      "outputs": [
        {
          "output_type": "stream",
          "text": [
            "      score grade  points  high_score\n",
            "name                                 \n",
            "Lee     100     A     1.5        True\n",
            "Hwang    95     A     1.7        True\n",
            "Kim      90     B     2.4       False\n",
            "      grade  points\n",
            "name               \n",
            "Lee       A     1.5\n",
            "Hwang     A     1.7\n",
            "Kim       B     2.4\n"
          ],
          "name": "stdout"
        }
      ]
    },
    {
      "cell_type": "code",
      "metadata": {
        "id": "3faZZXsuoq6G",
        "colab_type": "code",
        "colab": {}
      },
      "source": [
        "# dropna, 원본데이터 변경하고 싶다면 inplace=True 옵션\n",
        "# dropna(how='any') 행 데이터 중 하나라도 NaN이면 해당 행 제거\n",
        "# dropna(how='all') 행 데이터의 모든 값이 NaN인 행 데이터를 제거\n",
        "# df.isnull() - NaN 데이터를 찾아 True로 반환\n",
        "# fillna(value=' ') null값을 value로 변환"
      ],
      "execution_count": 0,
      "outputs": []
    },
    {
      "cell_type": "code",
      "metadata": {
        "id": "CC8J0iOpp0ZX",
        "colab_type": "code",
        "colab": {}
      },
      "source": [
        "## index 기준 정렬\n",
        "# df.sort_index()\n",
        "# df.sort_index(ascending=False)\n",
        "\n",
        "## column 기준 정렬\n",
        "# sort_index(axis=1)\n",
        "# sort_index(axis=1, ascending=False)\n",
        "\n",
        "## 특정 열 데이터 기준 정렬\n",
        "# sort_values(by='column명')"
      ],
      "execution_count": 0,
      "outputs": []
    },
    {
      "cell_type": "code",
      "metadata": {
        "id": "kSrs8-Dfqcaa",
        "colab_type": "code",
        "outputId": "64e763bd-45bc-4a1b-a402-479ee66bfb45",
        "colab": {
          "base_uri": "https://localhost:8080/",
          "height": 35
        }
      },
      "source": [
        "data = {'name':['David', 'Roy', 'Tina', 'Kim'],\n",
        "        'grade':['C', 'D', 'C', 'D'],\n",
        "        'score':[78, 64, 70, 62]}\n",
        "\n",
        "df = pd.DataFrame(data)\n",
        "\n",
        "df['etc'] = 0.0\n",
        "\n",
        "print(df.loc[df['name'] == 'Roy', 'score'].values[0])"
      ],
      "execution_count": 0,
      "outputs": [
        {
          "output_type": "stream",
          "text": [
            "64\n"
          ],
          "name": "stdout"
        }
      ]
    }
  ]
}